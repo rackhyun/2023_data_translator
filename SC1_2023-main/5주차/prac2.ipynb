{
 "cells": [
  {
   "cell_type": "markdown",
   "metadata": {},
   "source": [
    "# 실습 2\n",
    "mortdefault2009.csv는 2009년 모기지론과 관련한 데이터입니다.\n",
    "Feature의 수는 5개입니다. default 변수의 경우, default 변수는 정상0, default 발생 1의 값을 갖고 있습니다.\n",
    "\n",
    "주어진 데이터를 활용하여, creditScore에 대한 Regression을 적용해보세요.\n",
    "1.\t데이터 읽기\n",
    "2.\tMissing 확인 및 처리, @@@ 또는 qqq 등 이상한 값 제거\n",
    "3.\tTraining과 Testing으로 8:2로 파티셔닝 / Data Scaling은 필요 시 수행\n",
    "4.  default가 1인 값들만 남기기\n",
    "5.\t\"creditScore\"는 Y로,\"houseAge\",\"yearsEmploy\"를 X변수로 하는 regression을 수행, Testing 셋에 대한 rmse를 계산\n"
   ]
  },
  {
   "cell_type": "code",
   "execution_count": 22,
   "metadata": {},
   "outputs": [
    {
     "name": "stderr",
     "output_type": "stream",
     "text": [
      "/var/folders/bx/zv234tzj43l4hqdbys0hclvw0000gn/T/ipykernel_38797/1992156137.py:4: DtypeWarning: Columns (0) have mixed types. Specify dtype option on import or set low_memory=False.\n",
      "  md = pd.read_csv(\"data/mortDefault.zip\")\n"
     ]
    },
    {
     "name": "stdout",
     "output_type": "stream",
     "text": [
      "<class 'pandas.core.frame.DataFrame'>\n",
      "RangeIndex: 1000000 entries, 0 to 999999\n",
      "Data columns (total 6 columns):\n",
      " #   Column       Non-Null Count    Dtype  \n",
      "---  ------       --------------    -----  \n",
      " 0   creditScore  1000000 non-null  object \n",
      " 1   houseAge     999999 non-null   float64\n",
      " 2   yearsEmploy  999999 non-null   float64\n",
      " 3   ccDebt       1000000 non-null  int64  \n",
      " 4   year         1000000 non-null  int64  \n",
      " 5   default      1000000 non-null  int64  \n",
      "dtypes: float64(2), int64(3), object(1)\n",
      "memory usage: 45.8+ MB\n"
     ]
    },
    {
     "data": {
      "text/plain": [
       "creditScore  houseAge  yearsEmploy  ccDebt  year  default\n",
       "678          22.0      4.0          0       2009  0          0.000005\n",
       "705          20.0      4.0          0       2009  0          0.000004\n",
       "695          18.0      5.0          0       2009  0          0.000004\n",
       "689          20.0      5.0          0       2009  0          0.000004\n",
       "670          21.0      4.0          0       2009  0          0.000003\n",
       "                                                               ...   \n",
       "685          23.0      10.0         2922    2009  0          0.000001\n",
       "             24.0      0.0          2429    2009  0          0.000001\n",
       "                                    4793    2009  0          0.000001\n",
       "                                    5116    2009  0          0.000001\n",
       "qqq          11.0      5.0          5618    2009  0          0.000001\n",
       "Name: count, Length: 997969, dtype: float64"
      ]
     },
     "execution_count": 22,
     "metadata": {},
     "output_type": "execute_result"
    }
   ],
   "source": [
    "import pandas as pd \n",
    "import numpy as np\n",
    "\n",
    "md = pd.read_csv(\"data/mortDefault.zip\")\n",
    "md.info()\n",
    "md.value_counts() / md.shape[0]\n"
   ]
  },
  {
   "cell_type": "code",
   "execution_count": 23,
   "metadata": {},
   "outputs": [
    {
     "name": "stderr",
     "output_type": "stream",
     "text": [
      "/var/folders/bx/zv234tzj43l4hqdbys0hclvw0000gn/T/ipykernel_38797/4057760190.py:3: SettingWithCopyWarning: \n",
      "A value is trying to be set on a copy of a slice from a DataFrame\n",
      "\n",
      "See the caveats in the documentation: https://pandas.pydata.org/pandas-docs/stable/user_guide/indexing.html#returning-a-view-versus-a-copy\n",
      "  md1.drop('default',axis=1, inplace=True)\n",
      "/var/folders/bx/zv234tzj43l4hqdbys0hclvw0000gn/T/ipykernel_38797/4057760190.py:6: SettingWithCopyWarning: \n",
      "A value is trying to be set on a copy of a slice from a DataFrame\n",
      "\n",
      "See the caveats in the documentation: https://pandas.pydata.org/pandas-docs/stable/user_guide/indexing.html#returning-a-view-versus-a-copy\n",
      "  md1.replace({'@@@':np.nan, 'qqq':np.nan}, inplace=True)\n",
      "/var/folders/bx/zv234tzj43l4hqdbys0hclvw0000gn/T/ipykernel_38797/4057760190.py:7: SettingWithCopyWarning: \n",
      "A value is trying to be set on a copy of a slice from a DataFrame\n",
      "\n",
      "See the caveats in the documentation: https://pandas.pydata.org/pandas-docs/stable/user_guide/indexing.html#returning-a-view-versus-a-copy\n",
      "  md1.dropna(inplace=True)\n",
      "/var/folders/bx/zv234tzj43l4hqdbys0hclvw0000gn/T/ipykernel_38797/4057760190.py:10: SettingWithCopyWarning: \n",
      "A value is trying to be set on a copy of a slice from a DataFrame.\n",
      "Try using .loc[row_indexer,col_indexer] = value instead\n",
      "\n",
      "See the caveats in the documentation: https://pandas.pydata.org/pandas-docs/stable/user_guide/indexing.html#returning-a-view-versus-a-copy\n",
      "  md1.creditScore = md1.creditScore.astype('int')\n"
     ]
    }
   ],
   "source": [
    "\n",
    "md.drop(\"year\", axis=1, inplace=True)\n",
    "md1 = md[md.default == 1]\n",
    "md1.drop('default',axis=1, inplace=True)\n",
    "md1.shape\n",
    "\n",
    "md1.replace({'@@@':np.nan, 'qqq':np.nan}, inplace=True)\n",
    "md1.dropna(inplace=True)\n",
    "\n",
    "\n",
    "md1.creditScore = md1.creditScore.astype('int')\n"
   ]
  },
  {
   "cell_type": "code",
   "execution_count": 24,
   "metadata": {},
   "outputs": [],
   "source": [
    "from sklearn.preprocessing import StandardScaler\n",
    "sc1 = StandardScaler().fit(md1[[\"creditScore\", \"houseAge\", \"yearsEmploy\"]])\n",
    "sc1 = sc1.transform(md1[[\"creditScore\", \"houseAge\", \"yearsEmploy\"]])\n"
   ]
  },
  {
   "cell_type": "code",
   "execution_count": null,
   "metadata": {},
   "outputs": [],
   "source": [
    "import seaborn as sns\n",
    "sns.heatmap( md1.corr() )"
   ]
  },
  {
   "cell_type": "code",
   "execution_count": 29,
   "metadata": {},
   "outputs": [],
   "source": [
    "from sklearn.preprocessing import StandardScaler\n",
    "scaler_1 = StandardScaler().fit( md1[ [\"creditScore\", \"houseAge\",\"yearsEmploy\"]] )\n",
    "scaled_1 = scaler_1.transform( md1[ [\"creditScore\", \"houseAge\",\"yearsEmploy\"]] )\n",
    "data_1_scaled = pd.DataFrame( scaled_1, columns = [\"creditScore\", \"houseAge\",\"yearsEmploy\"] )\n"
   ]
  },
  {
   "cell_type": "code",
   "execution_count": 30,
   "metadata": {},
   "outputs": [],
   "source": [
    "\n",
    "from sklearn.model_selection import train_test_split\n",
    "X_train_1, X_test_1, y_train_1, y_test_1 = train_test_split( data_1_scaled.drop( \"creditScore\", axis=1), data_1_scaled.creditScore, test_size=0.2)\n"
   ]
  },
  {
   "cell_type": "code",
   "execution_count": 35,
   "metadata": {},
   "outputs": [
    {
     "name": "stdout",
     "output_type": "stream",
     "text": [
      "predicted:  689.0929111809487 , actual: 14257    781.0\n",
      "1289     748.0\n",
      "23397    764.0\n",
      "4597     719.0\n",
      "20566    624.0\n",
      "         ...  \n",
      "10038    693.0\n",
      "17653    719.0\n",
      "5029     677.0\n",
      "2727     654.0\n",
      "24598    704.0\n",
      "Name: creditScore, Length: 4949, dtype: float64\n",
      "736.8101856730129\n"
     ]
    }
   ],
   "source": [
    "\n",
    "from sklearn.linear_model import LinearRegression\n",
    "from sklearn.ensemble import RandomForestRegressor\n",
    "from sklearn.ensemble import AdaBoostRegressor\n",
    "from sklearn.tree import DecisionTreeRegressor\n",
    "\n",
    "model_1 = LinearRegression().fit( X_train_1, y_train_1)\n",
    "#model_1 = DecisionTreeRegressor().fit( X_train_1, y_train_1)\n",
    "#model_1 = RandomForestRegressor(n_estimators=100).fit( X_train_1, y_train_1)\n",
    "#model_1 = AdaBoostRegressor().fit( X_train_1, y_train_1)\n",
    "\n",
    "model_1.score( X_train_1, y_train_1 )\n",
    "\n",
    "#예측\n",
    "\n",
    "pred_1 = model_1.predict( X_test_1)\n",
    "print( \"predicted: \", pred_1[0] * scaler_1.scale_[0] + scaler_1.mean_[0],  \", actual:\", y_test_1* scaler_1.scale_[0] + scaler_1.mean_[0] )\n",
    "\n",
    "from sklearn.metrics import mean_squared_error\n",
    "print( mean_squared_error( pred_1, y_test_1 ) * scaler_1.scale_[0] + scaler_1.mean_[0] )"
   ]
  },
  {
   "cell_type": "code",
   "execution_count": 36,
   "metadata": {},
   "outputs": [
    {
     "name": "stdout",
     "output_type": "stream",
     "text": [
      "                            OLS Regression Results                            \n",
      "==============================================================================\n",
      "Dep. Variable:            creditScore   R-squared:                       0.000\n",
      "Model:                            OLS   Adj. R-squared:                 -0.000\n",
      "Method:                 Least Squares   F-statistic:                    0.2682\n",
      "Date:                Fri, 15 Sep 2023   Prob (F-statistic):              0.765\n",
      "Time:                        12:00:20   Log-Likelihood:                -28168.\n",
      "No. Observations:               19792   AIC:                         5.634e+04\n",
      "Df Residuals:                   19789   BIC:                         5.637e+04\n",
      "Df Model:                           2                                         \n",
      "Covariance Type:            nonrobust                                         \n",
      "===============================================================================\n",
      "                  coef    std err          t      P>|t|      [0.025      0.975]\n",
      "-------------------------------------------------------------------------------\n",
      "const          -0.0055      0.007     -0.770      0.441      -0.019       0.008\n",
      "houseAge       -0.0007      0.007     -0.099      0.921      -0.015       0.013\n",
      "yearsEmploy    -0.0052      0.007     -0.724      0.469      -0.019       0.009\n",
      "==============================================================================\n",
      "Omnibus:                        2.986   Durbin-Watson:                   2.003\n",
      "Prob(Omnibus):                  0.225   Jarque-Bera (JB):                2.987\n",
      "Skew:                          -0.030   Prob(JB):                        0.225\n",
      "Kurtosis:                       2.998   Cond. No.                         1.02\n",
      "==============================================================================\n",
      "\n",
      "Notes:\n",
      "[1] Standard Errors assume that the covariance matrix of the errors is correctly specified.\n"
     ]
    },
    {
     "data": {
      "text/plain": [
       "const          0.441390\n",
       "houseAge       0.921176\n",
       "yearsEmploy    0.469013\n",
       "dtype: float64"
      ]
     },
     "execution_count": 36,
     "metadata": {},
     "output_type": "execute_result"
    }
   ],
   "source": [
    "# 중요 변수를 추출하기 위해서 statsmodels로 변수들의 P-value를 확인한다.\n",
    "import statsmodels.api as sm\n",
    "\n",
    "X = sm.add_constant(X_train_1)\n",
    "y = y_train_1\n",
    "\n",
    "model = sm.OLS(y,X) # 순서 조심, y먼저\n",
    "results = model.fit()\n",
    "print(results.summary())\n",
    "results.pvalues"
   ]
  }
 ],
 "metadata": {
  "kernelspec": {
   "display_name": "Python 3",
   "language": "python",
   "name": "python3"
  },
  "language_info": {
   "codemirror_mode": {
    "name": "ipython",
    "version": 3
   },
   "file_extension": ".py",
   "mimetype": "text/x-python",
   "name": "python",
   "nbconvert_exporter": "python",
   "pygments_lexer": "ipython3",
   "version": "3.10.4"
  },
  "orig_nbformat": 4
 },
 "nbformat": 4,
 "nbformat_minor": 2
}
