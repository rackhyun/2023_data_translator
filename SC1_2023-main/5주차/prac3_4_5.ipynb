{
 "cells": [
  {
   "cell_type": "markdown",
   "metadata": {},
   "source": [
    "# 실습 3\n",
    "회사에서 새롭게 런칭한 디지털 콘텐츠 상품을 고객들을 대상으로 판매하는 방안을 데이터를 바탕으로 수립하고자 합니다.\n",
    "구체적으로는,\n",
    " - 1) 고객들의 온라인 리뷰 데이터를 바탕으로 적절한 고객群을 발견하여 고객들에 대한 이해를 하고,\n",
    " - 2) 고객들이 생성했던 제품 구매 Transaction자료를 바탕으로 판매 패턴을 발견합니다.\n",
    " - 3) 프로모션 후 생성된 텍스트 데이터를 바탕으로 제품 판매 활동에 대한 평가를 하고자 합니다.\n",
    "\n",
    "\n",
    "<대상 데이터>\n",
    " - 온라인 리뷰 데이터: data_1_2.csv\n",
    " - 제품 구매 이력 데이터: data_3.csv\n",
    " - 고객 피드백 데이터: data_5_2.csv\n"
   ]
  },
  {
   "cell_type": "code",
   "execution_count": 2,
   "metadata": {},
   "outputs": [
    {
     "name": "stdout",
     "output_type": "stream",
     "text": [
      "<class 'pandas.core.frame.DataFrame'>\n",
      "RangeIndex: 19225 entries, 0 to 19224\n",
      "Data columns (total 7 columns):\n",
      " #   Column      Non-Null Count  Dtype  \n",
      "---  ------      --------------  -----  \n",
      " 0   ufb         19225 non-null  int64  \n",
      " 1   usefulness  19225 non-null  float64\n",
      " 2   experience  19225 non-null  int64  \n",
      " 3   numofrv     19225 non-null  int64  \n",
      " 4   lenrv       19225 non-null  float64\n",
      " 5   dup         19225 non-null  int64  \n",
      " 6   score       19225 non-null  int64  \n",
      "dtypes: float64(2), int64(5)\n",
      "memory usage: 1.0 MB\n"
     ]
    }
   ],
   "source": [
    "import pandas as pd \n",
    "\n",
    "df1 = pd.read_csv(\"data/data_1_2.csv\")\n",
    "df2 = pd.read_csv(\"data/data_3.csv\")\n",
    "df3 = pd.read_csv(\"data/data_5_2.csv\")\n",
    "\n",
    "df1.info()\n",
    "\n"
   ]
  },
  {
   "cell_type": "code",
   "execution_count": 3,
   "metadata": {},
   "outputs": [],
   "source": [
    "df1.drop([\"dup\",\"score\",\"ufb\"], axis=1, inplace=True)\n"
   ]
  },
  {
   "cell_type": "code",
   "execution_count": 4,
   "metadata": {},
   "outputs": [],
   "source": [
    "from sklearn.preprocessing import MinMaxScaler\n",
    "sc1 = MinMaxScaler().fit_transform(df1)\n",
    "df1_sc = pd.DataFrame(sc1, columns= df1.columns)"
   ]
  },
  {
   "cell_type": "markdown",
   "metadata": {},
   "source": [
    "온라인 리뷰 데이터의 1~5번 변수에 대하여, K-means 클러스터링을 통해 고객 군집을 발견하세요. 이때 데이터 크기를 최소-최대 정규화를 적용하여 클러스터링하세요. 반복문을 사용하시어, K가 2,4,6,8일때의 Between Sum of Squares(모형의 inertia)를 비교해보세요. 그리고 k=8에서의 각 군집의 특성을 파악해보세요"
   ]
  },
  {
   "cell_type": "code",
   "execution_count": 12,
   "metadata": {},
   "outputs": [
    {
     "name": "stdout",
     "output_type": "stream",
     "text": [
      "2\n"
     ]
    },
    {
     "name": "stderr",
     "output_type": "stream",
     "text": [
      "/Library/Frameworks/Python.framework/Versions/3.10/lib/python3.10/site-packages/sklearn/cluster/_kmeans.py:1412: FutureWarning: The default value of `n_init` will change from 10 to 'auto' in 1.4. Set the value of `n_init` explicitly to suppress the warning\n",
      "  super()._check_params_vs_input(X, default_n_init=10)\n"
     ]
    },
    {
     "name": "stdout",
     "output_type": "stream",
     "text": [
      "800.7174219755065\n",
      "4\n"
     ]
    },
    {
     "name": "stderr",
     "output_type": "stream",
     "text": [
      "/Library/Frameworks/Python.framework/Versions/3.10/lib/python3.10/site-packages/sklearn/cluster/_kmeans.py:1412: FutureWarning: The default value of `n_init` will change from 10 to 'auto' in 1.4. Set the value of `n_init` explicitly to suppress the warning\n",
      "  super()._check_params_vs_input(X, default_n_init=10)\n"
     ]
    },
    {
     "name": "stdout",
     "output_type": "stream",
     "text": [
      "300.8622391671181\n",
      "6\n"
     ]
    },
    {
     "name": "stderr",
     "output_type": "stream",
     "text": [
      "/Library/Frameworks/Python.framework/Versions/3.10/lib/python3.10/site-packages/sklearn/cluster/_kmeans.py:1412: FutureWarning: The default value of `n_init` will change from 10 to 'auto' in 1.4. Set the value of `n_init` explicitly to suppress the warning\n",
      "  super()._check_params_vs_input(X, default_n_init=10)\n"
     ]
    },
    {
     "name": "stdout",
     "output_type": "stream",
     "text": [
      "177.2463376394128\n",
      "8\n"
     ]
    },
    {
     "name": "stderr",
     "output_type": "stream",
     "text": [
      "/Library/Frameworks/Python.framework/Versions/3.10/lib/python3.10/site-packages/sklearn/cluster/_kmeans.py:1412: FutureWarning: The default value of `n_init` will change from 10 to 'auto' in 1.4. Set the value of `n_init` explicitly to suppress the warning\n",
      "  super()._check_params_vs_input(X, default_n_init=10)\n"
     ]
    },
    {
     "name": "stdout",
     "output_type": "stream",
     "text": [
      "130.48959958750456\n",
      "10\n"
     ]
    },
    {
     "name": "stderr",
     "output_type": "stream",
     "text": [
      "/Library/Frameworks/Python.framework/Versions/3.10/lib/python3.10/site-packages/sklearn/cluster/_kmeans.py:1412: FutureWarning: The default value of `n_init` will change from 10 to 'auto' in 1.4. Set the value of `n_init` explicitly to suppress the warning\n",
      "  super()._check_params_vs_input(X, default_n_init=10)\n"
     ]
    },
    {
     "name": "stdout",
     "output_type": "stream",
     "text": [
      "102.91041734735592\n",
      "12\n"
     ]
    },
    {
     "name": "stderr",
     "output_type": "stream",
     "text": [
      "/Library/Frameworks/Python.framework/Versions/3.10/lib/python3.10/site-packages/sklearn/cluster/_kmeans.py:1412: FutureWarning: The default value of `n_init` will change from 10 to 'auto' in 1.4. Set the value of `n_init` explicitly to suppress the warning\n",
      "  super()._check_params_vs_input(X, default_n_init=10)\n"
     ]
    },
    {
     "name": "stdout",
     "output_type": "stream",
     "text": [
      "88.28049509386429\n"
     ]
    },
    {
     "name": "stderr",
     "output_type": "stream",
     "text": [
      "/Library/Frameworks/Python.framework/Versions/3.10/lib/python3.10/site-packages/sklearn/cluster/_kmeans.py:1412: FutureWarning: The default value of `n_init` will change from 10 to 'auto' in 1.4. Set the value of `n_init` explicitly to suppress the warning\n",
      "  super()._check_params_vs_input(X, default_n_init=10)\n"
     ]
    },
    {
     "data": {
      "text/html": [
       "<div>\n",
       "<style scoped>\n",
       "    .dataframe tbody tr th:only-of-type {\n",
       "        vertical-align: middle;\n",
       "    }\n",
       "\n",
       "    .dataframe tbody tr th {\n",
       "        vertical-align: top;\n",
       "    }\n",
       "\n",
       "    .dataframe thead th {\n",
       "        text-align: right;\n",
       "    }\n",
       "</style>\n",
       "<table border=\"1\" class=\"dataframe\">\n",
       "  <thead>\n",
       "    <tr style=\"text-align: right;\">\n",
       "      <th></th>\n",
       "      <th>usefulness</th>\n",
       "      <th>experience</th>\n",
       "      <th>numofrv</th>\n",
       "      <th>lenrv</th>\n",
       "    </tr>\n",
       "  </thead>\n",
       "  <tbody>\n",
       "    <tr>\n",
       "      <th>0</th>\n",
       "      <td>0.751476</td>\n",
       "      <td>0.011823</td>\n",
       "      <td>0.002366</td>\n",
       "      <td>0.045395</td>\n",
       "    </tr>\n",
       "    <tr>\n",
       "      <th>1</th>\n",
       "      <td>0.018145</td>\n",
       "      <td>0.003933</td>\n",
       "      <td>0.000412</td>\n",
       "      <td>0.031171</td>\n",
       "    </tr>\n",
       "    <tr>\n",
       "      <th>2</th>\n",
       "      <td>0.986333</td>\n",
       "      <td>0.005088</td>\n",
       "      <td>0.000733</td>\n",
       "      <td>0.043070</td>\n",
       "    </tr>\n",
       "    <tr>\n",
       "      <th>3</th>\n",
       "      <td>0.469491</td>\n",
       "      <td>0.412556</td>\n",
       "      <td>0.016288</td>\n",
       "      <td>0.044259</td>\n",
       "    </tr>\n",
       "    <tr>\n",
       "      <th>4</th>\n",
       "      <td>0.515538</td>\n",
       "      <td>0.012413</td>\n",
       "      <td>0.002110</td>\n",
       "      <td>0.040128</td>\n",
       "    </tr>\n",
       "    <tr>\n",
       "      <th>5</th>\n",
       "      <td>0.862022</td>\n",
       "      <td>0.282815</td>\n",
       "      <td>0.015159</td>\n",
       "      <td>0.051569</td>\n",
       "    </tr>\n",
       "    <tr>\n",
       "      <th>6</th>\n",
       "      <td>0.282550</td>\n",
       "      <td>0.011385</td>\n",
       "      <td>0.001324</td>\n",
       "      <td>0.036853</td>\n",
       "    </tr>\n",
       "    <tr>\n",
       "      <th>7</th>\n",
       "      <td>0.822148</td>\n",
       "      <td>0.636344</td>\n",
       "      <td>0.031160</td>\n",
       "      <td>0.050068</td>\n",
       "    </tr>\n",
       "  </tbody>\n",
       "</table>\n",
       "</div>"
      ],
      "text/plain": [
       "   usefulness  experience   numofrv     lenrv\n",
       "0    0.751476    0.011823  0.002366  0.045395\n",
       "1    0.018145    0.003933  0.000412  0.031171\n",
       "2    0.986333    0.005088  0.000733  0.043070\n",
       "3    0.469491    0.412556  0.016288  0.044259\n",
       "4    0.515538    0.012413  0.002110  0.040128\n",
       "5    0.862022    0.282815  0.015159  0.051569\n",
       "6    0.282550    0.011385  0.001324  0.036853\n",
       "7    0.822148    0.636344  0.031160  0.050068"
      ]
     },
     "execution_count": 12,
     "metadata": {},
     "output_type": "execute_result"
    }
   ],
   "source": [
    "from mlxtend.preprocessing import TransactionEncoder\n",
    "\n",
    "from sklearn.cluster import KMeans\n",
    "\n",
    "for i in [2, 4, 6, 8, 10, 12]:\n",
    "  print(i)\n",
    "  print( KMeans(n_clusters=i).fit(df1_sc).inertia_ )\n",
    "\n",
    "cluster = KMeans(n_clusters=8).fit(df1_sc)\n",
    "pd.DataFrame( cluster.cluster_centers_, columns = df1.columns)"
   ]
  },
  {
   "cell_type": "markdown",
   "metadata": {},
   "source": [
    "# 실습 4\n",
    "\n",
    "제품 구매이력 데이터로 부터, 기존 제품의 판매 패턴을 mlxtend 모듈을 사용해서 발견해보세요. 최소 지지도는 0.01이상이며, 그 외의 지표는 상황에 맞게 설정하세요\n",
    "\n",
    "- 1행 부터 20000행까지 사용해보세요\n",
    "- fpgrowth를 사용해보세요"
   ]
  },
  {
   "cell_type": "code",
   "execution_count": 14,
   "metadata": {},
   "outputs": [
    {
     "data": {
      "text/plain": [
       "(19999, 3)"
      ]
     },
     "execution_count": 14,
     "metadata": {},
     "output_type": "execute_result"
    }
   ],
   "source": [
    "import mlxtend\n",
    "from mlxtend.frequent_patterns import apriori, fpgrowth, association_rules\n",
    "\n",
    "df2.shape\n",
    "#df2 = df2.iloc[0:20000, :]"
   ]
  },
  {
   "cell_type": "code",
   "execution_count": 15,
   "metadata": {},
   "outputs": [],
   "source": [
    "df2['artist'] = df2['artist'].str.strip()#앞뒤 공백 제거\n",
    "df2.dropna(axis=0, subset=['user'], inplace=True)\n",
    "df2['user'] = df2['user'].astype('str')\t\t#문자열로 변환"
   ]
  },
  {
   "cell_type": "code",
   "execution_count": 16,
   "metadata": {},
   "outputs": [
    {
     "name": "stdout",
     "output_type": "stream",
     "text": [
      "[['judas priest', 'dropkick murphys', 'red hot chili peppers', 'edguy', 'the killers', 'john mayer', 'the who', 'guano apes', 'jack johnson', 'le tigre', 'the rolling stones', 'schandmaul', 'goldfrapp', 'rob zombie', 'the black dahlia murder', 'eluveitie'], ['placebo', 'amy macdonald', 'amy winehouse', 'dido', 'manu chao', 'coldplay', 'natasha bedingfield'], ['satyricon', 'katatonia', 'moonspell', 'bloodbath', 'the birthday massacre', 'pain of salvation', 'agalloch', 'aphex twin', 'dead can dance', 'behemoth', 'porcupine tree', 'opeth', 'eluveitie'], ['billy talent', 'radiohead', 'nofx', 'red.jumpsuit.apparatus', 'alkaline trio', 'the shins', 'the cure', 'cute is what we aim for', 'motion city soundtrack', 'oasis', 'blink-182', 'rise against', 'goldfinger', 'anti-flag', 'good charlotte', 'the used', '44', 'jimmy eat world', 'silverstein', 'u2', 'circa survive'], ['elton john', 'grateful dead', 'steely dan', 'black label society', 'iron maiden', 'black sabbath', 'jethro tull', 'frank zappa', 'king crimson', 'genesis', 'judas priest', 'bob dylan', 'the beatles', 'simon & garfunkel', 'john lennon', 'stone temple pilots', 'the doors', 'pink floyd', 'queen', 'billy joel', 'buckethead', 'david bowie', 'alice in chains', 'dio', 'metallica', 'joe satriani', 'rainbow', 'alice cooper', 'rush', 'ozzy osbourne', 'the who'], ['the hush sound', 'metro station', 'dashboard confessional', 'frank sinatra', 'okkervil river', 'sarah mclachlan', 'third eye blind', 'taking back sunday', 'bob dylan', 'mgmt', 'the new pornographers', 'sara bareilles', 'the beatles', 'sigur rós', 'modest mouse', 'sufjan stevens', 'norah jones', 'animal collective', 'stars', 'the faint', 'snow patrol', 'tegan and sara', 'atmosphere', 'tokyo police club', 'joshua radin', 'something corporate', 'vampire weekend', 'damien rice'], ['the offspring', 'ramones', 'håkan hellström', 'system of a down', 'neil young', 'judas priest', 'the clash', 'slipknot', 'bob dylan', 'metallica', 'the beatles', 'misfits', 'pink floyd', 'turbonegro', 'u2'], ['armin van buuren', 'amy macdonald', 'infected mushroom', 'david guetta', 'stone sour', 'eagles of death metal', 'sonata arctica', 'jason mraz', 'the cardigans', 'disturbed', 'oasis', 'lily allen', 'system of a down', 'benny benassi', 'garbage', 'seether', 'lenny kravitz', 'mando diao', 'paramore', 'atb', 'snow patrol', 'james morrison', 'heaven shall burn', 'the vines', 'hammerfall', 'coldplay', 'the fray'], ['tori amos', 'kate bush', 'fleetwood mac', 'a-ha', 'neil young', 'kraftwerk', 'nick drake', 'duran duran', 'pj harvey', 'bee gees', 'sade', 'the beatles', 'amy winehouse', 'kent', 'portishead', 'paul mccartney', 'imogen heap', 'nina simone'], ['jefferson airplane', 'koЯn', 'red hot chili peppers', 'beastie boys', 'kasabian', 'green day', 'the prodigy', 'rage against the machine', 'the kinks', 'the offspring', 'simple plan', 'nirvana', 'system of a down', 'the killers', 'the white stripes', 'good charlotte', 'ramones', 'kaiser chiefs', 'papa roach', 'sex pistols', 'franz ferdinand', 'metallica', 'limp bizkit', 'sum 41']]\n"
     ]
    }
   ],
   "source": [
    "df2_tmp = df2.groupby('user')['artist'].apply(set).apply(list).to_list()\n",
    "print(df2_tmp[:10])"
   ]
  },
  {
   "cell_type": "code",
   "execution_count": 19,
   "metadata": {},
   "outputs": [
    {
     "name": "stdout",
     "output_type": "stream",
     "text": [
      "[[False False False ... False False False]\n",
      " [False False False ... False False False]\n",
      " [False False False ... False False False]\n",
      " ...\n",
      " [False False False ... False False False]\n",
      " [False False False ... False False False]\n",
      " [False  True False ... False False False]]\n"
     ]
    }
   ],
   "source": [
    "from mlxtend.preprocessing import TransactionEncoder\n",
    "te = TransactionEncoder()\n",
    "te_ary = te.fit_transform(df2_tmp) # df_tmp를 장바구니 형태로 변경 (fit과 transform을 동시에 진행)\n",
    "print(te_ary)\n",
    "df2_a = pd.DataFrame(te_ary, columns=te.columns_) # label 정보는 te.columns_에 저장되어 있으므로, 해당 값을 칼럼명으로 하는 데이터 프레임으로 변경.\n",
    "#df.head()"
   ]
  },
  {
   "cell_type": "code",
   "execution_count": 20,
   "metadata": {},
   "outputs": [
    {
     "data": {
      "text/html": [
       "<div>\n",
       "<style scoped>\n",
       "    .dataframe tbody tr th:only-of-type {\n",
       "        vertical-align: middle;\n",
       "    }\n",
       "\n",
       "    .dataframe tbody tr th {\n",
       "        vertical-align: top;\n",
       "    }\n",
       "\n",
       "    .dataframe thead th {\n",
       "        text-align: right;\n",
       "    }\n",
       "</style>\n",
       "<table border=\"1\" class=\"dataframe\">\n",
       "  <thead>\n",
       "    <tr style=\"text-align: right;\">\n",
       "      <th></th>\n",
       "      <th>antecedents</th>\n",
       "      <th>consequents</th>\n",
       "      <th>antecedent support</th>\n",
       "      <th>consequent support</th>\n",
       "      <th>support</th>\n",
       "      <th>confidence</th>\n",
       "      <th>lift</th>\n",
       "      <th>leverage</th>\n",
       "      <th>conviction</th>\n",
       "      <th>zhangs_metric</th>\n",
       "    </tr>\n",
       "  </thead>\n",
       "  <tbody>\n",
       "    <tr>\n",
       "      <th>1</th>\n",
       "      <td>(coldplay)</td>\n",
       "      <td>(radiohead)</td>\n",
       "      <td>0.149357</td>\n",
       "      <td>0.201780</td>\n",
       "      <td>0.065282</td>\n",
       "      <td>0.437086</td>\n",
       "      <td>2.166147</td>\n",
       "      <td>0.035145</td>\n",
       "      <td>1.418014</td>\n",
       "      <td>0.632875</td>\n",
       "    </tr>\n",
       "    <tr>\n",
       "      <th>2</th>\n",
       "      <td>(the beatles)</td>\n",
       "      <td>(radiohead)</td>\n",
       "      <td>0.190900</td>\n",
       "      <td>0.201780</td>\n",
       "      <td>0.071217</td>\n",
       "      <td>0.373057</td>\n",
       "      <td>1.848827</td>\n",
       "      <td>0.032697</td>\n",
       "      <td>1.273193</td>\n",
       "      <td>0.567441</td>\n",
       "    </tr>\n",
       "    <tr>\n",
       "      <th>3</th>\n",
       "      <td>(radiohead)</td>\n",
       "      <td>(the beatles)</td>\n",
       "      <td>0.201780</td>\n",
       "      <td>0.190900</td>\n",
       "      <td>0.071217</td>\n",
       "      <td>0.352941</td>\n",
       "      <td>1.848827</td>\n",
       "      <td>0.032697</td>\n",
       "      <td>1.250427</td>\n",
       "      <td>0.575176</td>\n",
       "    </tr>\n",
       "    <tr>\n",
       "      <th>0</th>\n",
       "      <td>(radiohead)</td>\n",
       "      <td>(coldplay)</td>\n",
       "      <td>0.201780</td>\n",
       "      <td>0.149357</td>\n",
       "      <td>0.065282</td>\n",
       "      <td>0.323529</td>\n",
       "      <td>2.166147</td>\n",
       "      <td>0.035145</td>\n",
       "      <td>1.257472</td>\n",
       "      <td>0.674440</td>\n",
       "    </tr>\n",
       "  </tbody>\n",
       "</table>\n",
       "</div>"
      ],
      "text/plain": [
       "     antecedents    consequents  antecedent support  consequent support  \\\n",
       "1     (coldplay)    (radiohead)            0.149357            0.201780   \n",
       "2  (the beatles)    (radiohead)            0.190900            0.201780   \n",
       "3    (radiohead)  (the beatles)            0.201780            0.190900   \n",
       "0    (radiohead)     (coldplay)            0.201780            0.149357   \n",
       "\n",
       "    support  confidence      lift  leverage  conviction  zhangs_metric  \n",
       "1  0.065282    0.437086  2.166147  0.035145    1.418014       0.632875  \n",
       "2  0.071217    0.373057  1.848827  0.032697    1.273193       0.567441  \n",
       "3  0.071217    0.352941  1.848827  0.032697    1.250427       0.575176  \n",
       "0  0.065282    0.323529  2.166147  0.035145    1.257472       0.674440  "
      ]
     },
     "execution_count": 20,
     "metadata": {},
     "output_type": "execute_result"
    }
   ],
   "source": [
    "frequent_itemsets = fpgrowth(df2_a, min_support=0.05, use_colnames=True) # 여기서는 0.05를 기준으로 선정\n",
    "frequent_itemsets.sort_values(by='support', ascending=False)\n",
    "\n",
    "tmp = association_rules(frequent_itemsets, metric=\"confidence\", min_threshold=0.1)\n",
    "tmp\n",
    "tmp.sort_values(by = ['confidence', 'lift', 'support'], ascending=False)\n"
   ]
  },
  {
   "cell_type": "code",
   "execution_count": null,
   "metadata": {},
   "outputs": [],
   "source": []
  },
  {
   "cell_type": "markdown",
   "metadata": {},
   "source": [
    "# 실습5\n",
    "\n",
    "고객 피드백을 통해 판촉에 대한 긍부정에 대한 데이터가 텍스트로 기록되어 있습니다. 텍스트마이닝을 거쳐, 중빈도(10~30)에 해당하는 단어들로 구성된 DTM이 data_5_2.csv 로 제공됩니다. 해당 파일의 첫 컬럼은 고객의 피드백이 긍정(1)인지 부정(0)인지 기록되어 있습니다. 이 데이터에서 긍정인 경우에 대한 피드백 단어들의 클러스터링을, 부정인 피드백에 대한 피드백 단어들의 발생패턴을 수행해보세요.\n"
   ]
  },
  {
   "cell_type": "code",
   "execution_count": 30,
   "metadata": {},
   "outputs": [],
   "source": [
    "df3_0 = df3[df3.iloc[:,0]==0]  # pattern\n",
    "df3_1 = df3[df3.iloc[:,0]==1]  # kmeans"
   ]
  },
  {
   "cell_type": "code",
   "execution_count": 22,
   "metadata": {},
   "outputs": [],
   "source": [
    "#Kmeans\n",
    "from sklearn.preprocessing import MinMaxScaler\n",
    "scaled = MinMaxScaler().fit_transform( df3_1)\n",
    "scaled_df = pd.DataFrame( scaled, columns = df3_1.columns)\n",
    "scaled_df.drop( \"Unnamed: 0\", axis=1, inplace=True)"
   ]
  },
  {
   "cell_type": "code",
   "execution_count": 26,
   "metadata": {},
   "outputs": [
    {
     "name": "stderr",
     "output_type": "stream",
     "text": [
      "/Library/Frameworks/Python.framework/Versions/3.10/lib/python3.10/site-packages/sklearn/cluster/_kmeans.py:1412: FutureWarning: The default value of `n_init` will change from 10 to 'auto' in 1.4. Set the value of `n_init` explicitly to suppress the warning\n",
      "  super()._check_params_vs_input(X, default_n_init=10)\n"
     ]
    },
    {
     "data": {
      "text/html": [
       "<div>\n",
       "<style scoped>\n",
       "    .dataframe tbody tr th:only-of-type {\n",
       "        vertical-align: middle;\n",
       "    }\n",
       "\n",
       "    .dataframe tbody tr th {\n",
       "        vertical-align: top;\n",
       "    }\n",
       "\n",
       "    .dataframe thead th {\n",
       "        text-align: right;\n",
       "    }\n",
       "</style>\n",
       "<table border=\"1\" class=\"dataframe\">\n",
       "  <thead>\n",
       "    <tr style=\"text-align: right;\">\n",
       "      <th></th>\n",
       "      <th>great</th>\n",
       "      <th>ask</th>\n",
       "      <th>card</th>\n",
       "      <th>give</th>\n",
       "      <th>love</th>\n",
       "      <th>problem</th>\n",
       "      <th>purchas</th>\n",
       "      <th>return</th>\n",
       "      <th>back</th>\n",
       "      <th>buy</th>\n",
       "      <th>good</th>\n",
       "    </tr>\n",
       "  </thead>\n",
       "  <tbody>\n",
       "    <tr>\n",
       "      <th>0</th>\n",
       "      <td>-8.326673e-17</td>\n",
       "      <td>0.018018</td>\n",
       "      <td>0.040541</td>\n",
       "      <td>0.027027</td>\n",
       "      <td>0.094595</td>\n",
       "      <td>4.054054e-02</td>\n",
       "      <td>6.081081e-02</td>\n",
       "      <td>0.040541</td>\n",
       "      <td>1.801802e-02</td>\n",
       "      <td>0.135135</td>\n",
       "      <td>1.081081e-01</td>\n",
       "    </tr>\n",
       "    <tr>\n",
       "      <th>1</th>\n",
       "      <td>1.000000e+00</td>\n",
       "      <td>0.000000</td>\n",
       "      <td>0.000000</td>\n",
       "      <td>0.000000</td>\n",
       "      <td>0.000000</td>\n",
       "      <td>6.938894e-18</td>\n",
       "      <td>1.387779e-17</td>\n",
       "      <td>0.166667</td>\n",
       "      <td>-6.938894e-18</td>\n",
       "      <td>0.000000</td>\n",
       "      <td>8.333333e-02</td>\n",
       "    </tr>\n",
       "    <tr>\n",
       "      <th>2</th>\n",
       "      <td>0.000000e+00</td>\n",
       "      <td>0.000000</td>\n",
       "      <td>0.000000</td>\n",
       "      <td>1.000000</td>\n",
       "      <td>0.000000</td>\n",
       "      <td>1.000000e+00</td>\n",
       "      <td>0.000000e+00</td>\n",
       "      <td>0.000000</td>\n",
       "      <td>1.000000e+00</td>\n",
       "      <td>0.000000</td>\n",
       "      <td>0.000000e+00</td>\n",
       "    </tr>\n",
       "    <tr>\n",
       "      <th>3</th>\n",
       "      <td>0.000000e+00</td>\n",
       "      <td>1.000000</td>\n",
       "      <td>0.000000</td>\n",
       "      <td>0.000000</td>\n",
       "      <td>0.500000</td>\n",
       "      <td>0.000000e+00</td>\n",
       "      <td>5.000000e-01</td>\n",
       "      <td>0.000000</td>\n",
       "      <td>6.666667e-01</td>\n",
       "      <td>0.000000</td>\n",
       "      <td>0.000000e+00</td>\n",
       "    </tr>\n",
       "    <tr>\n",
       "      <th>4</th>\n",
       "      <td>0.000000e+00</td>\n",
       "      <td>0.111111</td>\n",
       "      <td>0.000000</td>\n",
       "      <td>0.166667</td>\n",
       "      <td>0.000000</td>\n",
       "      <td>6.938894e-18</td>\n",
       "      <td>1.387779e-17</td>\n",
       "      <td>0.041667</td>\n",
       "      <td>5.555556e-02</td>\n",
       "      <td>0.083333</td>\n",
       "      <td>1.387779e-17</td>\n",
       "    </tr>\n",
       "    <tr>\n",
       "      <th>5</th>\n",
       "      <td>0.000000e+00</td>\n",
       "      <td>0.000000</td>\n",
       "      <td>0.000000</td>\n",
       "      <td>1.000000</td>\n",
       "      <td>0.000000</td>\n",
       "      <td>0.000000e+00</td>\n",
       "      <td>7.500000e-01</td>\n",
       "      <td>0.000000</td>\n",
       "      <td>3.333333e-01</td>\n",
       "      <td>0.500000</td>\n",
       "      <td>1.000000e+00</td>\n",
       "    </tr>\n",
       "    <tr>\n",
       "      <th>6</th>\n",
       "      <td>0.000000e+00</td>\n",
       "      <td>0.000000</td>\n",
       "      <td>0.250000</td>\n",
       "      <td>0.000000</td>\n",
       "      <td>0.000000</td>\n",
       "      <td>0.000000e+00</td>\n",
       "      <td>0.000000e+00</td>\n",
       "      <td>0.000000</td>\n",
       "      <td>0.000000e+00</td>\n",
       "      <td>0.500000</td>\n",
       "      <td>0.000000e+00</td>\n",
       "    </tr>\n",
       "    <tr>\n",
       "      <th>7</th>\n",
       "      <td>1.000000e+00</td>\n",
       "      <td>0.000000</td>\n",
       "      <td>0.000000</td>\n",
       "      <td>0.000000</td>\n",
       "      <td>0.000000</td>\n",
       "      <td>0.000000e+00</td>\n",
       "      <td>1.000000e+00</td>\n",
       "      <td>0.000000</td>\n",
       "      <td>0.000000e+00</td>\n",
       "      <td>0.000000</td>\n",
       "      <td>0.000000e+00</td>\n",
       "    </tr>\n",
       "  </tbody>\n",
       "</table>\n",
       "</div>"
      ],
      "text/plain": [
       "          great       ask      card      give      love       problem  \\\n",
       "0 -8.326673e-17  0.018018  0.040541  0.027027  0.094595  4.054054e-02   \n",
       "1  1.000000e+00  0.000000  0.000000  0.000000  0.000000  6.938894e-18   \n",
       "2  0.000000e+00  0.000000  0.000000  1.000000  0.000000  1.000000e+00   \n",
       "3  0.000000e+00  1.000000  0.000000  0.000000  0.500000  0.000000e+00   \n",
       "4  0.000000e+00  0.111111  0.000000  0.166667  0.000000  6.938894e-18   \n",
       "5  0.000000e+00  0.000000  0.000000  1.000000  0.000000  0.000000e+00   \n",
       "6  0.000000e+00  0.000000  0.250000  0.000000  0.000000  0.000000e+00   \n",
       "7  1.000000e+00  0.000000  0.000000  0.000000  0.000000  0.000000e+00   \n",
       "\n",
       "        purchas    return          back       buy          good  \n",
       "0  6.081081e-02  0.040541  1.801802e-02  0.135135  1.081081e-01  \n",
       "1  1.387779e-17  0.166667 -6.938894e-18  0.000000  8.333333e-02  \n",
       "2  0.000000e+00  0.000000  1.000000e+00  0.000000  0.000000e+00  \n",
       "3  5.000000e-01  0.000000  6.666667e-01  0.000000  0.000000e+00  \n",
       "4  1.387779e-17  0.041667  5.555556e-02  0.083333  1.387779e-17  \n",
       "5  7.500000e-01  0.000000  3.333333e-01  0.500000  1.000000e+00  \n",
       "6  0.000000e+00  0.000000  0.000000e+00  0.500000  0.000000e+00  \n",
       "7  1.000000e+00  0.000000  0.000000e+00  0.000000  0.000000e+00  "
      ]
     },
     "execution_count": 26,
     "metadata": {},
     "output_type": "execute_result"
    }
   ],
   "source": [
    "from sklearn.cluster import KMeans\n",
    "km = KMeans().fit(scaled_df)\n",
    "pd.DataFrame( km.cluster_centers_, columns=scaled_df.columns).iloc[:, 0:11]\n"
   ]
  },
  {
   "cell_type": "code",
   "execution_count": 31,
   "metadata": {},
   "outputs": [
    {
     "name": "stderr",
     "output_type": "stream",
     "text": [
      "/var/folders/bx/zv234tzj43l4hqdbys0hclvw0000gn/T/ipykernel_40693/849230255.py:2: SettingWithCopyWarning: \n",
      "A value is trying to be set on a copy of a slice from a DataFrame\n",
      "\n",
      "See the caveats in the documentation: https://pandas.pydata.org/pandas-docs/stable/user_guide/indexing.html#returning-a-view-versus-a-copy\n",
      "  df3_0.drop( \"Unnamed: 0\", axis=1, inplace=True)\n"
     ]
    }
   ],
   "source": [
    "#df3_0.columns\n",
    "df3_0.drop( \"Unnamed: 0\", axis=1, inplace=True)"
   ]
  },
  {
   "cell_type": "code",
   "execution_count": 32,
   "metadata": {},
   "outputs": [
    {
     "data": {
      "text/html": [
       "<div>\n",
       "<style scoped>\n",
       "    .dataframe tbody tr th:only-of-type {\n",
       "        vertical-align: middle;\n",
       "    }\n",
       "\n",
       "    .dataframe tbody tr th {\n",
       "        vertical-align: top;\n",
       "    }\n",
       "\n",
       "    .dataframe thead th {\n",
       "        text-align: right;\n",
       "    }\n",
       "</style>\n",
       "<table border=\"1\" class=\"dataframe\">\n",
       "  <thead>\n",
       "    <tr style=\"text-align: right;\">\n",
       "      <th></th>\n",
       "      <th>great</th>\n",
       "      <th>ask</th>\n",
       "      <th>card</th>\n",
       "      <th>give</th>\n",
       "      <th>love</th>\n",
       "      <th>problem</th>\n",
       "      <th>purchas</th>\n",
       "      <th>return</th>\n",
       "      <th>back</th>\n",
       "      <th>buy</th>\n",
       "      <th>...</th>\n",
       "      <th>price</th>\n",
       "      <th>address</th>\n",
       "      <th>compani</th>\n",
       "      <th>find</th>\n",
       "      <th>kohl</th>\n",
       "      <th>target</th>\n",
       "      <th>deliv</th>\n",
       "      <th>pick</th>\n",
       "      <th>deliveri</th>\n",
       "      <th>sear</th>\n",
       "    </tr>\n",
       "  </thead>\n",
       "  <tbody>\n",
       "    <tr>\n",
       "      <th>1</th>\n",
       "      <td>1</td>\n",
       "      <td>1</td>\n",
       "      <td>1</td>\n",
       "      <td>1</td>\n",
       "      <td>1</td>\n",
       "      <td>1</td>\n",
       "      <td>1</td>\n",
       "      <td>1</td>\n",
       "      <td>0</td>\n",
       "      <td>0</td>\n",
       "      <td>...</td>\n",
       "      <td>0</td>\n",
       "      <td>0</td>\n",
       "      <td>0</td>\n",
       "      <td>0</td>\n",
       "      <td>0</td>\n",
       "      <td>0</td>\n",
       "      <td>0</td>\n",
       "      <td>0</td>\n",
       "      <td>0</td>\n",
       "      <td>0</td>\n",
       "    </tr>\n",
       "    <tr>\n",
       "      <th>2</th>\n",
       "      <td>0</td>\n",
       "      <td>0</td>\n",
       "      <td>0</td>\n",
       "      <td>0</td>\n",
       "      <td>0</td>\n",
       "      <td>0</td>\n",
       "      <td>0</td>\n",
       "      <td>0</td>\n",
       "      <td>1</td>\n",
       "      <td>1</td>\n",
       "      <td>...</td>\n",
       "      <td>0</td>\n",
       "      <td>0</td>\n",
       "      <td>0</td>\n",
       "      <td>0</td>\n",
       "      <td>0</td>\n",
       "      <td>0</td>\n",
       "      <td>0</td>\n",
       "      <td>0</td>\n",
       "      <td>0</td>\n",
       "      <td>0</td>\n",
       "    </tr>\n",
       "    <tr>\n",
       "      <th>6</th>\n",
       "      <td>1</td>\n",
       "      <td>0</td>\n",
       "      <td>1</td>\n",
       "      <td>0</td>\n",
       "      <td>0</td>\n",
       "      <td>0</td>\n",
       "      <td>0</td>\n",
       "      <td>0</td>\n",
       "      <td>0</td>\n",
       "      <td>0</td>\n",
       "      <td>...</td>\n",
       "      <td>0</td>\n",
       "      <td>0</td>\n",
       "      <td>0</td>\n",
       "      <td>0</td>\n",
       "      <td>0</td>\n",
       "      <td>0</td>\n",
       "      <td>0</td>\n",
       "      <td>0</td>\n",
       "      <td>0</td>\n",
       "      <td>0</td>\n",
       "    </tr>\n",
       "    <tr>\n",
       "      <th>7</th>\n",
       "      <td>1</td>\n",
       "      <td>0</td>\n",
       "      <td>0</td>\n",
       "      <td>0</td>\n",
       "      <td>0</td>\n",
       "      <td>0</td>\n",
       "      <td>1</td>\n",
       "      <td>0</td>\n",
       "      <td>0</td>\n",
       "      <td>0</td>\n",
       "      <td>...</td>\n",
       "      <td>0</td>\n",
       "      <td>0</td>\n",
       "      <td>0</td>\n",
       "      <td>0</td>\n",
       "      <td>0</td>\n",
       "      <td>0</td>\n",
       "      <td>0</td>\n",
       "      <td>0</td>\n",
       "      <td>0</td>\n",
       "      <td>0</td>\n",
       "    </tr>\n",
       "    <tr>\n",
       "      <th>8</th>\n",
       "      <td>0</td>\n",
       "      <td>0</td>\n",
       "      <td>0</td>\n",
       "      <td>0</td>\n",
       "      <td>0</td>\n",
       "      <td>0</td>\n",
       "      <td>0</td>\n",
       "      <td>0</td>\n",
       "      <td>0</td>\n",
       "      <td>0</td>\n",
       "      <td>...</td>\n",
       "      <td>0</td>\n",
       "      <td>0</td>\n",
       "      <td>0</td>\n",
       "      <td>0</td>\n",
       "      <td>0</td>\n",
       "      <td>0</td>\n",
       "      <td>0</td>\n",
       "      <td>0</td>\n",
       "      <td>0</td>\n",
       "      <td>0</td>\n",
       "    </tr>\n",
       "  </tbody>\n",
       "</table>\n",
       "<p>5 rows × 57 columns</p>\n",
       "</div>"
      ],
      "text/plain": [
       "   great  ask  card  give  love  problem  purchas  return  back  buy  ...  \\\n",
       "1      1    1     1     1     1        1        1       1     0    0  ...   \n",
       "2      0    0     0     0     0        0        0       0     1    1  ...   \n",
       "6      1    0     1     0     0        0        0       0     0    0  ...   \n",
       "7      1    0     0     0     0        0        1       0     0    0  ...   \n",
       "8      0    0     0     0     0        0        0       0     0    0  ...   \n",
       "\n",
       "   price  address  compani  find  kohl  target  deliv  pick  deliveri  sear  \n",
       "1      0        0        0     0     0       0      0     0         0     0  \n",
       "2      0        0        0     0     0       0      0     0         0     0  \n",
       "6      0        0        0     0     0       0      0     0         0     0  \n",
       "7      0        0        0     0     0       0      0     0         0     0  \n",
       "8      0        0        0     0     0       0      0     0         0     0  \n",
       "\n",
       "[5 rows x 57 columns]"
      ]
     },
     "execution_count": 32,
     "metadata": {},
     "output_type": "execute_result"
    }
   ],
   "source": [
    "#pattern\n",
    "#binarize\n",
    "def encode_units(x):\n",
    "    if x <= 0:\n",
    "        return 0\n",
    "    if x >= 1:\n",
    "        return 1\n",
    "df3_0_bin = df3_0.applymap(encode_units)\n",
    "df33 = pd.DataFrame(df3_0_bin, columns=df3_0.columns)\n",
    "df33.head()"
   ]
  },
  {
   "cell_type": "code",
   "execution_count": 33,
   "metadata": {},
   "outputs": [
    {
     "data": {
      "text/html": [
       "<div>\n",
       "<style scoped>\n",
       "    .dataframe tbody tr th:only-of-type {\n",
       "        vertical-align: middle;\n",
       "    }\n",
       "\n",
       "    .dataframe tbody tr th {\n",
       "        vertical-align: top;\n",
       "    }\n",
       "\n",
       "    .dataframe thead th {\n",
       "        text-align: right;\n",
       "    }\n",
       "</style>\n",
       "<table border=\"1\" class=\"dataframe\">\n",
       "  <thead>\n",
       "    <tr style=\"text-align: right;\">\n",
       "      <th></th>\n",
       "      <th>antecedents</th>\n",
       "      <th>consequents</th>\n",
       "      <th>antecedent support</th>\n",
       "      <th>consequent support</th>\n",
       "      <th>support</th>\n",
       "      <th>confidence</th>\n",
       "      <th>lift</th>\n",
       "      <th>leverage</th>\n",
       "      <th>conviction</th>\n",
       "      <th>zhangs_metric</th>\n",
       "    </tr>\n",
       "  </thead>\n",
       "  <tbody>\n",
       "    <tr>\n",
       "      <th>1</th>\n",
       "      <td>(coldplay)</td>\n",
       "      <td>(radiohead)</td>\n",
       "      <td>0.149357</td>\n",
       "      <td>0.201780</td>\n",
       "      <td>0.065282</td>\n",
       "      <td>0.437086</td>\n",
       "      <td>2.166147</td>\n",
       "      <td>0.035145</td>\n",
       "      <td>1.418014</td>\n",
       "      <td>0.632875</td>\n",
       "    </tr>\n",
       "    <tr>\n",
       "      <th>2</th>\n",
       "      <td>(the beatles)</td>\n",
       "      <td>(radiohead)</td>\n",
       "      <td>0.190900</td>\n",
       "      <td>0.201780</td>\n",
       "      <td>0.071217</td>\n",
       "      <td>0.373057</td>\n",
       "      <td>1.848827</td>\n",
       "      <td>0.032697</td>\n",
       "      <td>1.273193</td>\n",
       "      <td>0.567441</td>\n",
       "    </tr>\n",
       "    <tr>\n",
       "      <th>3</th>\n",
       "      <td>(radiohead)</td>\n",
       "      <td>(the beatles)</td>\n",
       "      <td>0.201780</td>\n",
       "      <td>0.190900</td>\n",
       "      <td>0.071217</td>\n",
       "      <td>0.352941</td>\n",
       "      <td>1.848827</td>\n",
       "      <td>0.032697</td>\n",
       "      <td>1.250427</td>\n",
       "      <td>0.575176</td>\n",
       "    </tr>\n",
       "    <tr>\n",
       "      <th>0</th>\n",
       "      <td>(radiohead)</td>\n",
       "      <td>(coldplay)</td>\n",
       "      <td>0.201780</td>\n",
       "      <td>0.149357</td>\n",
       "      <td>0.065282</td>\n",
       "      <td>0.323529</td>\n",
       "      <td>2.166147</td>\n",
       "      <td>0.035145</td>\n",
       "      <td>1.257472</td>\n",
       "      <td>0.674440</td>\n",
       "    </tr>\n",
       "  </tbody>\n",
       "</table>\n",
       "</div>"
      ],
      "text/plain": [
       "     antecedents    consequents  antecedent support  consequent support  \\\n",
       "1     (coldplay)    (radiohead)            0.149357            0.201780   \n",
       "2  (the beatles)    (radiohead)            0.190900            0.201780   \n",
       "3    (radiohead)  (the beatles)            0.201780            0.190900   \n",
       "0    (radiohead)     (coldplay)            0.201780            0.149357   \n",
       "\n",
       "    support  confidence      lift  leverage  conviction  zhangs_metric  \n",
       "1  0.065282    0.437086  2.166147  0.035145    1.418014       0.632875  \n",
       "2  0.071217    0.373057  1.848827  0.032697    1.273193       0.567441  \n",
       "3  0.071217    0.352941  1.848827  0.032697    1.250427       0.575176  \n",
       "0  0.065282    0.323529  2.166147  0.035145    1.257472       0.674440  "
      ]
     },
     "execution_count": 33,
     "metadata": {},
     "output_type": "execute_result"
    }
   ],
   "source": [
    "frequent_itemsets = apriori(df, min_support=0.05, use_colnames=True) # 여기서는 0.05를 기준으로 선정\n",
    "frequent_itemsets.sort_values(by='support', ascending=False)\n",
    "\n",
    "tmp = association_rules(frequent_itemsets, metric=\"confidence\", min_threshold=0.1)\n",
    "tmp.sort_values(by = ['confidence', 'lift', 'support'], ascending=False)"
   ]
  }
 ],
 "metadata": {
  "kernelspec": {
   "display_name": "Python 3",
   "language": "python",
   "name": "python3"
  },
  "language_info": {
   "codemirror_mode": {
    "name": "ipython",
    "version": 3
   },
   "file_extension": ".py",
   "mimetype": "text/x-python",
   "name": "python",
   "nbconvert_exporter": "python",
   "pygments_lexer": "ipython3",
   "version": "3.10.4"
  },
  "orig_nbformat": 4
 },
 "nbformat": 4,
 "nbformat_minor": 2
}
